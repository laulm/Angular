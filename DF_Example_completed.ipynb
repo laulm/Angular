{
  "nbformat": 4,
  "nbformat_minor": 0,
  "metadata": {
    "colab": {
      "name": "DF_Example_completed.ipynb",
      "provenance": [],
      "authorship_tag": "ABX9TyMb+6ajAeDWhHczEdbphguN",
      "include_colab_link": true
    },
    "kernelspec": {
      "name": "python3",
      "display_name": "Python 3"
    },
    "language_info": {
      "name": "python"
    }
  },
  "cells": [
    {
      "cell_type": "markdown",
      "metadata": {
        "id": "view-in-github",
        "colab_type": "text"
      },
      "source": [
        "<a href=\"https://colab.research.google.com/github/laulm/Angular/blob/master/DF_Example_completed.ipynb\" target=\"_parent\"><img src=\"https://colab.research.google.com/assets/colab-badge.svg\" alt=\"Open In Colab\"/></a>"
      ]
    },
    {
      "cell_type": "markdown",
      "source": [
        "### Create a Data Frame"
      ],
      "metadata": {
        "id": "f1APf2CLbsas"
      }
    },
    {
      "cell_type": "code",
      "execution_count": null,
      "metadata": {
        "id": "zxRPNou_bP8T"
      },
      "outputs": [],
      "source": [
        "import pandas as pd\n",
        "technologies= {\n",
        "    'Courses':[\"Spark\",\"PySpark\",\"Spark\",\"Java\",\"PySpark\",\"PHP\"],\n",
        "    'Fee' :[22000,25000,23000,24000,26000,27000],\n",
        "    'Duration':['30days','50days','30days','60days','35days','30days']\n",
        "          }\n",
        "df = pd.DataFrame(technologies)\n"
      ]
    },
    {
      "cell_type": "markdown",
      "source": [
        "### Show the Data Frame "
      ],
      "metadata": {
        "id": "1dyOxKGmb3qj"
      }
    },
    {
      "cell_type": "code",
      "source": [
        "print(df)"
      ],
      "metadata": {
        "colab": {
          "base_uri": "https://localhost:8080/"
        },
        "id": "Qnn9_rO3b7jT",
        "outputId": "4a6ff401-5f07-445b-8f83-ff1e383601a2"
      },
      "execution_count": 2,
      "outputs": [
        {
          "output_type": "stream",
          "name": "stdout",
          "text": [
            "   Courses    Fee Duration\n",
            "0    Spark  22000   30days\n",
            "1  PySpark  25000   50days\n",
            "2    Spark  23000   30days\n",
            "3     Java  24000   60days\n",
            "4  PySpark  26000   35days\n",
            "5      PHP  27000   30days\n"
          ]
        }
      ]
    },
    {
      "cell_type": "markdown",
      "source": [
        "### Filter Columns"
      ],
      "metadata": {
        "id": "3mgWv0GycAnz"
      }
    },
    {
      "cell_type": "code",
      "source": [
        "df2=df.filter(items=['Courses','Fee'])\n",
        "print(df2)"
      ],
      "metadata": {
        "colab": {
          "base_uri": "https://localhost:8080/"
        },
        "id": "LJPE4aHXb8qT",
        "outputId": "14520de6-ac62-4bc3-96ec-192f3307d46c"
      },
      "execution_count": 3,
      "outputs": [
        {
          "output_type": "stream",
          "name": "stdout",
          "text": [
            "   Courses    Fee\n",
            "0    Spark  22000\n",
            "1  PySpark  25000\n",
            "2    Spark  23000\n",
            "3     Java  24000\n",
            "4  PySpark  26000\n",
            "5      PHP  27000\n"
          ]
        }
      ]
    },
    {
      "cell_type": "markdown",
      "source": [
        "### Filter columns using like"
      ],
      "metadata": {
        "id": "pfcc2WgoeEYy"
      }
    },
    {
      "cell_type": "code",
      "source": [
        "# Filter Columns using like\n",
        "df3 = df.filter(like='ration', axis=1)\n",
        "print(df2)\n"
      ],
      "metadata": {
        "colab": {
          "base_uri": "https://localhost:8080/"
        },
        "id": "kM6fMBfcd3rj",
        "outputId": "32e9ef71-25ae-4311-a3cd-cd9031b059da"
      },
      "execution_count": 4,
      "outputs": [
        {
          "output_type": "stream",
          "name": "stdout",
          "text": [
            "   Courses    Fee\n",
            "0    Spark  22000\n",
            "1  PySpark  25000\n",
            "2    Spark  23000\n",
            "3     Java  24000\n",
            "4  PySpark  26000\n",
            "5      PHP  27000\n"
          ]
        }
      ]
    },
    {
      "cell_type": "markdown",
      "source": [
        "### Delete Columns"
      ],
      "metadata": {
        "id": "uytgjrJnei-r"
      }
    },
    {
      "cell_type": "code",
      "source": [
        "print(\"This is the Dataframe before deleting the column\")\n",
        "print(df)\n",
        "# Delete column with deth\n",
        "del df[\"Duration\"]\n",
        "print(\"This is the Dataframe after deleting column Duration\")\n",
        "print(df)"
      ],
      "metadata": {
        "colab": {
          "base_uri": "https://localhost:8080/"
        },
        "id": "MXJUB_7gemXr",
        "outputId": "42aca3cc-18ee-43f8-f3ca-dd435a2a2ee2"
      },
      "execution_count": 6,
      "outputs": [
        {
          "output_type": "stream",
          "name": "stdout",
          "text": [
            "This is the Dataframe before deleting the column\n",
            "   Courses    Fee Duration\n",
            "0    Spark  22000   30days\n",
            "1  PySpark  25000   50days\n",
            "2    Spark  23000   30days\n",
            "3     Java  24000   60days\n",
            "4  PySpark  26000   35days\n",
            "5      PHP  27000   30days\n",
            "This is the Dataframe after deleting column Duration\n",
            "   Courses    Fee\n",
            "0    Spark  22000\n",
            "1  PySpark  25000\n",
            "2    Spark  23000\n",
            "3     Java  24000\n",
            "4  PySpark  26000\n",
            "5      PHP  27000\n"
          ]
        }
      ]
    },
    {
      "cell_type": "markdown",
      "source": [
        "### Add a new column"
      ],
      "metadata": {
        "id": "kJH6fNxKgCga"
      }
    },
    {
      "cell_type": "code",
      "source": [
        "# Declare a list that is to be converted into a column\n",
        "schools = ['Voca', 'CCH', 'Prepa', 'Bacho', 'CONALEP', 'Cetis']\n",
        "\n",
        "print(\"This is the Dataframe before add a column\")\n",
        "print(df)\n",
        "\n",
        "# Equating it to the list\n",
        "df['Schools'] = schools\n",
        "\n",
        "print(\"This is the Dataframe after add a column schools\")\n",
        "print(df)\n"
      ],
      "metadata": {
        "colab": {
          "base_uri": "https://localhost:8080/"
        },
        "id": "uZyXgyfUgHnD",
        "outputId": "ac8bb829-2893-4a02-b663-31adf6bd5b06"
      },
      "execution_count": 7,
      "outputs": [
        {
          "output_type": "stream",
          "name": "stdout",
          "text": [
            "This is the Dataframe before add a column\n",
            "   Courses    Fee\n",
            "0    Spark  22000\n",
            "1  PySpark  25000\n",
            "2    Spark  23000\n",
            "3     Java  24000\n",
            "4  PySpark  26000\n",
            "5      PHP  27000\n",
            "This is the Dataframe after add a column schools\n",
            "   Courses    Fee  Schools\n",
            "0    Spark  22000     Voca\n",
            "1  PySpark  25000      CCH\n",
            "2    Spark  23000    Prepa\n",
            "3     Java  24000    Bacho\n",
            "4  PySpark  26000  CONALEP\n",
            "5      PHP  27000    Cetis\n"
          ]
        }
      ]
    },
    {
      "cell_type": "markdown",
      "source": [
        "### References"
      ],
      "metadata": {
        "id": "PzKvwQdOeXbb"
      }
    },
    {
      "cell_type": "markdown",
      "source": [
        "* https://sparkbyexamples.com/pandas/pandas-dataframe-filter/\n",
        "* https://www.educative.io/answers/how-to-delete-a-column-in-pandas"
      ],
      "metadata": {
        "id": "Vf4R6GehebGT"
      }
    },
    {
      "cell_type": "code",
      "source": [
        ""
      ],
      "metadata": {
        "id": "7Uo3nNICfrHC"
      },
      "execution_count": null,
      "outputs": []
    }
  ]
}