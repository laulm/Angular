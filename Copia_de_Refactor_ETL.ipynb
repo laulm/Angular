{
  "nbformat": 4,
  "nbformat_minor": 0,
  "metadata": {
    "colab": {
      "name": "Copia de Refactor_ETL.ipynb",
      "provenance": [],
      "collapsed_sections": [
        "rLLkAjb4eE81",
        "A5DiF39IeGo3",
        "jTa7KeuyeSch",
        "sDp-psaveYG9",
        "f_BCt97tVepD",
        "46v5ZFtBMWit",
        "cSV1Sw-ONUKt",
        "nkyQYs3eTfIs"
      ],
      "include_colab_link": true
    },
    "kernelspec": {
      "name": "python3",
      "display_name": "Python 3"
    },
    "language_info": {
      "name": "python"
    }
  },
  "cells": [
    {
      "cell_type": "markdown",
      "metadata": {
        "id": "view-in-github",
        "colab_type": "text"
      },
      "source": [
        "<a href=\"https://colab.research.google.com/github/laulm/Angular/blob/master/Copia_de_Refactor_ETL.ipynb\" target=\"_parent\"><img src=\"https://colab.research.google.com/assets/colab-badge.svg\" alt=\"Open In Colab\"/></a>"
      ]
    },
    {
      "cell_type": "markdown",
      "source": [
        "# Introduction\n",
        "This notebook has the code to do my ETL process\n",
        "\n",
        "ETL, which stands for extract, transform and load, is a data integration process that combines data from multiple data sources into a single, consistent data store that is loaded into a data warehouse or other target system."
      ],
      "metadata": {
        "id": "ZGQrXpSBmZex"
      }
    },
    {
      "cell_type": "markdown",
      "source": [
        "# Content\n",
        "* Step 1: Install libraries\n",
        "* Step 2: Introduce the URL\n",
        "* Step 3: Dowload the resource\n",
        "* Step 4: Extract ZIP file\n",
        "* Step 5: Load Data in Cloud Storage\n",
        "* Step 6: Read CSV \n",
        "* Step 7: Visualize the Data \n",
        "* Step 8: Filter Data Using Like\n",
        "* Step 9: Delete Columns \n",
        "* Step 10: Add a new column \n",
        "* Step 11: Save the CSV\n",
        "* Step 12: Upload Data to Bigquery\n",
        "* Step 13: Resources \n"
      ],
      "metadata": {
        "id": "30uujdLJmcnu"
      }
    },
    {
      "cell_type": "markdown",
      "source": [
        "# Setup"
      ],
      "metadata": {
        "id": "t0z1SkYlmgRG"
      }
    },
    {
      "cell_type": "markdown",
      "source": [
        "## Install libraries"
      ],
      "metadata": {
        "id": "NqjoIxlrmziT"
      }
    },
    {
      "cell_type": "code",
      "source": [
        "!pip install requests"
      ],
      "metadata": {
        "id": "ojgz8qh7m3qH",
        "colab": {
          "base_uri": "https://localhost:8080/"
        },
        "outputId": "707be9aa-9b17-49b0-c1ac-c91bfc6bc557"
      },
      "execution_count": 1,
      "outputs": [
        {
          "output_type": "stream",
          "name": "stdout",
          "text": [
            "Looking in indexes: https://pypi.org/simple, https://us-python.pkg.dev/colab-wheels/public/simple/\n",
            "Requirement already satisfied: requests in /usr/local/lib/python3.7/dist-packages (2.23.0)\n",
            "Requirement already satisfied: idna<3,>=2.5 in /usr/local/lib/python3.7/dist-packages (from requests) (2.10)\n",
            "Requirement already satisfied: certifi>=2017.4.17 in /usr/local/lib/python3.7/dist-packages (from requests) (2022.6.15)\n",
            "Requirement already satisfied: urllib3!=1.25.0,!=1.25.1,<1.26,>=1.21.1 in /usr/local/lib/python3.7/dist-packages (from requests) (1.24.3)\n",
            "Requirement already satisfied: chardet<4,>=3.0.2 in /usr/local/lib/python3.7/dist-packages (from requests) (3.0.4)\n"
          ]
        }
      ]
    },
    {
      "cell_type": "markdown",
      "source": [
        "## Import libraries"
      ],
      "metadata": {
        "id": "60FliL9VnD-M"
      }
    },
    {
      "cell_type": "code",
      "source": [
        "# built in libraries (Python)\n",
        "import json\n",
        "import os\n",
        "import requests\n",
        "from zipfile import ZipFile\n",
        "\n",
        "# third-party libraries\n",
        "from google.cloud import bigquery\n",
        "from google.cloud import storage\n",
        "from google.colab import drive\n",
        "from google.oauth2 import service_account\n",
        "import pandas as pd\n",
        "import matplotlib.pyplot as plt\n",
        "import numpy as np\n",
        "\n",
        "# your libraries\n"
      ],
      "metadata": {
        "id": "lDO26jWanGjD"
      },
      "execution_count": 2,
      "outputs": []
    },
    {
      "cell_type": "markdown",
      "source": [
        "# Extraction"
      ],
      "metadata": {
        "id": "BdVMfibemh1h"
      }
    },
    {
      "cell_type": "markdown",
      "source": [
        "## Download dataset in CSV"
      ],
      "metadata": {
        "id": "XKdi8yQap-GQ"
      }
    },
    {
      "cell_type": "markdown",
      "source": [
        "### Introduce the URL"
      ],
      "metadata": {
        "id": "A5DiF39IeGo3"
      }
    },
    {
      "cell_type": "markdown",
      "source": [
        "We introducing the URL, for calling this, later "
      ],
      "metadata": {
        "id": "WOc502BNbLsR"
      }
    },
    {
      "cell_type": "code",
      "source": [
        "URL = \"https://www.inegi.org.mx/contenidos/programas/ccpv/2020/datosabiertos/geoelectorales/eceg_2020_csv.zip\""
      ],
      "metadata": {
        "id": "NOfs_fwHeI6U"
      },
      "execution_count": 3,
      "outputs": []
    },
    {
      "cell_type": "markdown",
      "source": [
        "### Download the resource"
      ],
      "metadata": {
        "id": "0T3Szin3eKLh"
      }
    },
    {
      "cell_type": "markdown",
      "source": [
        "1.   Import the request module and pandas to use these later\n",
        "2.   Print a message indicating that the download has started\n",
        "3.   Downloading the file by sending the request to the URL\n",
        "4.   Split URL to get the file name\n",
        "5.   Writing the file to the local file system\n",
        "6.   Print a message to indicate the Downloading is completed\n",
        "\n",
        "\n",
        "\n"
      ],
      "metadata": {
        "id": "5c0I_pC4cVXw"
      }
    },
    {
      "cell_type": "code",
      "source": [
        "def download_raw_data(url: str ) -> any:\n",
        "  \"\"\"Download data from URL.\n",
        "  \n",
        "  This function downloads the data from a URL.\n",
        "\n",
        "  Args:\n",
        "    url (str): URL that contains free access the specific resource.\n",
        "  \n",
        "  Returns:\n",
        "    True value (bool) if the download was OK, otherwise False value\n",
        "  \"\"\"\n",
        "\n",
        "  print('Downloading started')\n",
        "\n",
        "  # Downloading the file by sending the request to the URL\n",
        "  req = requests.get(URL)\n",
        "  \n",
        "  # Split URL to get the file name\n",
        "  filename = URL.split('/')[-1]\n",
        "  print(filename)\n",
        "\n",
        "  # Writing the file to the local file system\n",
        "  with open(filename,'wb') as output_file:\n",
        "    output_file.write(req.content)\n",
        "    print('Downloading Completed')\n",
        "    return True, filename\n",
        "  \n",
        "  return False, \"\""
      ],
      "metadata": {
        "id": "xvtbgASdeLrW"
      },
      "execution_count": 4,
      "outputs": []
    },
    {
      "cell_type": "code",
      "source": [
        "result, filename = download_raw_data(url=URL)"
      ],
      "metadata": {
        "colab": {
          "base_uri": "https://localhost:8080/"
        },
        "id": "kJyiWmEzoZ0v",
        "outputId": "fb994ff7-1bd9-4e0f-836e-f0096634c651"
      },
      "execution_count": 5,
      "outputs": [
        {
          "output_type": "stream",
          "name": "stdout",
          "text": [
            "Downloading started\n",
            "eceg_2020_csv.zip\n",
            "Downloading Completed\n"
          ]
        }
      ]
    },
    {
      "cell_type": "markdown",
      "source": [
        "### Extract ZIP file"
      ],
      "metadata": {
        "id": "GsHOI0GXeN_C"
      }
    },
    {
      "cell_type": "markdown",
      "source": [
        "1. Import the zipfile \n",
        "2. With this, we extract all the content of zip file in current directory\n",
        "3. Print a message to indicate the Extraction Completed"
      ],
      "metadata": {
        "id": "uy8-qGvHgnsK"
      }
    },
    {
      "cell_type": "code",
      "source": [
        "def unzip_file(path: str) -> any:\n",
        "  \"\"\"Unzip existing file.\n",
        "  \n",
        "  This function unzips the data from a ZIP file.\n",
        "\n",
        "  Args:\n",
        "    path (str): Resource path where the ZIP file is.\n",
        "  \n",
        "  Returns:\n",
        "    True value (bool) if the download was OK, otherwise False value\n",
        "  \"\"\"\n",
        "  with ZipFile(path, 'r') as zipObj:\n",
        "    # Extract all the contents of zip file in current directory\n",
        "    path_data = \"./data\"\n",
        "    zipObj.extractall(path_data)\n",
        "    print('Extraction Completed')\n",
        "    return True, path_data\n",
        "\n",
        "  return False, \"\""
      ],
      "metadata": {
        "id": "0nm_GlqteQ1j"
      },
      "execution_count": 6,
      "outputs": []
    },
    {
      "cell_type": "code",
      "source": [
        "if result == True:\n",
        "  result_unzip, path_csv = unzip_file(path=filename)\n",
        "  if result_unzip == True:\n",
        "    print(f\"The file was unzipped in {path_csv}!\")    \n",
        "else:\n",
        "  print(\"The file was NOT unzipped!\")    "
      ],
      "metadata": {
        "colab": {
          "base_uri": "https://localhost:8080/"
        },
        "id": "-p64Srswn4go",
        "outputId": "3b31bd68-7663-4659-8ffd-fadada19bfd0"
      },
      "execution_count": 7,
      "outputs": [
        {
          "output_type": "stream",
          "name": "stdout",
          "text": [
            "Extraction Completed\n",
            "The file was unzipped in ./data!\n"
          ]
        }
      ]
    },
    {
      "cell_type": "code",
      "source": [
        "path_csv"
      ],
      "metadata": {
        "id": "d9InMwmVwRSw",
        "outputId": "04bc9eb7-e898-4b3a-fb34-540a7450b44f",
        "colab": {
          "base_uri": "https://localhost:8080/",
          "height": 0
        }
      },
      "execution_count": 8,
      "outputs": [
        {
          "output_type": "execute_result",
          "data": {
            "text/plain": [
              "'./data'"
            ],
            "application/vnd.google.colaboratory.intrinsic+json": {
              "type": "string"
            }
          },
          "metadata": {},
          "execution_count": 8
        }
      ]
    },
    {
      "cell_type": "markdown",
      "source": [
        "## Load raw (CSV) data in Cloud Storage"
      ],
      "metadata": {
        "id": "lImKPbLiwnIi"
      }
    },
    {
      "cell_type": "markdown",
      "source": [
        "###Load Data in Cloud Storage"
      ],
      "metadata": {
        "id": "YoqzrUWlL8AU"
      }
    },
    {
      "cell_type": "markdown",
      "source": [
        "We go to load our data in google cloud storage\n",
        "1. Import the \"storage\" and the \"service_account\" for using this more later \n",
        "2. Import os\n",
        "3. Import json "
      ],
      "metadata": {
        "id": "6THaIIVShFBw"
      }
    },
    {
      "cell_type": "markdown",
      "source": [
        "Give acces to the google cloud storage.\n",
        "\n",
        "**Note**: To create your service account check this [Setting up authentication](https://cloud.google.com/storage/docs/reference/libraries#setting_up_authentication)\n",
        "\n",
        "Don´t forget upload you service account .json"
      ],
      "metadata": {
        "id": "EtgkJ-Ovh1eQ"
      }
    },
    {
      "cell_type": "markdown",
      "source": [
        " Show the list of buckets from Google Storage\n",
        "\n",
        " **Note**: For more information about how to create a buckets check [Create Buckets](https://cloud.google.com/storage/docs/naming-buckets)"
      ],
      "metadata": {
        "id": "KIul1CWbj13Y"
      }
    },
    {
      "cell_type": "code",
      "source": [
        "def get_client():\n",
        "  return storage.Client.from_service_account_json( '/content/proyecto-prueba-353920-e3f554c0b04f.json') "
      ],
      "metadata": {
        "id": "H_ybT-ApHhCp"
      },
      "execution_count": 9,
      "outputs": []
    },
    {
      "cell_type": "code",
      "source": [
        "def validate_access() -> bool:\n",
        "  \"\"\"Validate bucket access.\n",
        "  \n",
        "  This function validates the access to a bucket in GCS.\n",
        "  \n",
        "  Returns:\n",
        "    True value (bool) if the access was OK, otherwise False value\n",
        "  \"\"\"\n",
        "  storage_client = get_client()\n",
        "  buckets = storage_client.list_buckets()\n",
        "\n",
        "  \n",
        "\n",
        "  for bucket in buckets:\n",
        "    if bucket.name: # if there is a bucket name\n",
        "      print(bucket.name)\n",
        "      return True\n",
        "  \n",
        "  return False"
      ],
      "metadata": {
        "id": "nrtu01WvMQQr"
      },
      "execution_count": 10,
      "outputs": []
    },
    {
      "cell_type": "code",
      "source": [
        "print(validate_access())"
      ],
      "metadata": {
        "colab": {
          "base_uri": "https://localhost:8080/"
        },
        "id": "QrRHjy7Pq7o5",
        "outputId": "3069b1ac-f807-4c0d-d8ce-2439e27ef600"
      },
      "execution_count": 11,
      "outputs": [
        {
          "output_type": "stream",
          "name": "stdout",
          "text": [
            "lflmexample\n",
            "True\n"
          ]
        }
      ]
    },
    {
      "cell_type": "code",
      "source": [
        "def get_client(type: str) -> any:\n",
        "  \"\"\"Return the type of client\n",
        "  Args:\n",
        "    type (str):Type of client\n",
        "  Returns:\n",
        "    any: This could be either a bigquery client or a cloud storage client\n",
        "  \"\"\"\n",
        "  if type == \"bigquery\":\n",
        "    print(\"Client BigQuery Created\")\n",
        "    return bigquery.Client.from_service_account_json( '/content/proyecto-prueba-353920-e3f554c0b04f.json')\n",
        "  elif type == \"cloud_storage\":\n",
        "    print(\"Client Cloud Storage Created\")\n",
        "    return storage.Client.from_service_account_json( '/content/proyecto-prueba-353920-e3f554c0b04f.json') \n",
        "\n",
        "  "
      ],
      "metadata": {
        "id": "HY89OtpeLPVg"
      },
      "execution_count": 12,
      "outputs": []
    },
    {
      "cell_type": "code",
      "source": [
        "bigquery_client=get_client(type=\"bigquery\")\n",
        "storage_client=get_client(type=\"cloud_storage\")"
      ],
      "metadata": {
        "colab": {
          "base_uri": "https://localhost:8080/"
        },
        "id": "9AmCp-EPLsJ6",
        "outputId": "bad63b53-93e8-4c7e-98a1-e852a4917d5b"
      },
      "execution_count": 13,
      "outputs": [
        {
          "output_type": "stream",
          "name": "stdout",
          "text": [
            "Client BigQuery Created\n",
            "Client Cloud Storage Created\n"
          ]
        }
      ]
    },
    {
      "cell_type": "code",
      "source": [
        "def upload_file_gcs(client: any, bucket_name: str, file_name: str, path: str) -> bool:\n",
        "  \n",
        "  bucket = storage_client.get_bucket(bucket_name)\n",
        "  path_ine_csv = file_name\n",
        "  blob = bucket.blob(path_ine_csv)\n",
        "  with open(path, \"rb\") as f:\n",
        "    blob.upload_from_file(f)\n",
        "  print(\"Upload completed\")"
      ],
      "metadata": {
        "id": "BbFXYwoAGxuI"
      },
      "execution_count": 14,
      "outputs": []
    },
    {
      "cell_type": "code",
      "source": [
        "path=path_csv + \"/conjunto_de_datos/INE_DISTRITO_2020.CSV\"\n",
        "bucket_name=\"lflmexample\"\n",
        "file_name = os.path.basename(path)\n",
        "upload_file_gcs(client=bigquery_client, bucket_name=bucket_name, file_name=file_name, path=path)"
      ],
      "metadata": {
        "colab": {
          "base_uri": "https://localhost:8080/"
        },
        "id": "rZYE5I8fJkOZ",
        "outputId": "4ed056f4-d05f-4965-d05e-dcefbeb7e579"
      },
      "execution_count": 15,
      "outputs": [
        {
          "output_type": "stream",
          "name": "stdout",
          "text": [
            "Upload completed\n"
          ]
        }
      ]
    },
    {
      "cell_type": "markdown",
      "source": [
        "# Transformation"
      ],
      "metadata": {
        "id": "igt2mudRmkCC"
      }
    },
    {
      "cell_type": "markdown",
      "source": [
        "## Download Data from GCS"
      ],
      "metadata": {
        "id": "_Ssp8TfCBiZ6"
      }
    },
    {
      "cell_type": "code",
      "source": [
        "def download_file_gcs(client: any, bucket_name: str, file_name: str, path: str) -> bool:\n",
        "  \n",
        "  bucket = storage_client.get_bucket(bucket_name)\n",
        "  path_ine_csv = file_name\n",
        "  blob = bucket.blob(path_ine_csv)\n",
        "  blob.download_to_filename(file_name)\n",
        "  path_ine_csv\n"
      ],
      "metadata": {
        "id": "toP117tPOC3U"
      },
      "execution_count": 16,
      "outputs": []
    },
    {
      "cell_type": "code",
      "source": [
        "path=path_csv + \"/conjunto_de_datos/INE_DISTRITO_2020.CSV\"\n",
        "bucket_name=\"lflmexample\"\n",
        "file_name = os.path.basename(path)\n",
        "download_file_gcs(client=bigquery_client, bucket_name=bucket_name, file_name=file_name, path=path)"
      ],
      "metadata": {
        "id": "-VAJD9FuPVG1"
      },
      "execution_count": 17,
      "outputs": []
    },
    {
      "cell_type": "markdown",
      "source": [
        "## Open Data with Pandas"
      ],
      "metadata": {
        "id": "XoMrh8YBCA0D"
      }
    },
    {
      "cell_type": "markdown",
      "source": [
        "#### Create a DataFrame"
      ],
      "metadata": {
        "id": "uZU4ZheFfskg"
      }
    },
    {
      "cell_type": "code",
      "source": [
        "def create_df(data_frame: any):\n",
        "  data_frame = pd.read_csv(path, index_col=0, encoding='latin-1') \n",
        "  return data_frame"
      ],
      "metadata": {
        "id": "EObXXfRbCE-y"
      },
      "execution_count": 27,
      "outputs": []
    },
    {
      "cell_type": "code",
      "source": [
        "name_dataframe = file_name\n",
        "create_df(data_frame=name_dataframe)\n"
      ],
      "metadata": {
        "id": "LMEd9ptagesL"
      },
      "execution_count": null,
      "outputs": []
    },
    {
      "cell_type": "code",
      "source": [
        ""
      ],
      "metadata": {
        "id": "z66qDxEM-jGU"
      },
      "execution_count": null,
      "outputs": []
    },
    {
      "cell_type": "markdown",
      "source": [
        "## Data Tranformations"
      ],
      "metadata": {
        "id": "aLlcMsNLCRzq"
      }
    },
    {
      "cell_type": "markdown",
      "source": [
        "### Filter Data"
      ],
      "metadata": {
        "id": "FskOkgExCfJ6"
      }
    },
    {
      "cell_type": "code",
      "source": [
        "def filter_data(data_frame: any):\n",
        "      data_filter = data_frame.filter(like='ration', axis=1)\n",
        "      return data_filter"
      ],
      "metadata": {
        "id": "7CUyqZmuCcj6"
      },
      "execution_count": 30,
      "outputs": []
    },
    {
      "cell_type": "code",
      "source": [
        "data_f=create_df(data_frame=name_dataframe)\n",
        "filter_data(data_frame=data_f)"
      ],
      "metadata": {
        "id": "LS4pn605e34k"
      },
      "execution_count": null,
      "outputs": []
    },
    {
      "cell_type": "markdown",
      "source": [
        "### Delete Columns"
      ],
      "metadata": {
        "id": "Ahfg0h3PCiFu"
      }
    },
    {
      "cell_type": "code",
      "source": [
        "#print(\"This is the Dataframe before deleting the column\")\n",
        "#print(file_name)\n",
        "# Delete column with deth\n",
        "def delete_column(data_frame: any):\n",
        "    del data_frame[\"COMPLEJIDA\"]\n",
        "    print(\"This is the Dataframe after deleting column Duration\")\n",
        "    return data_frame"
      ],
      "metadata": {
        "id": "huvjJmkqClHC"
      },
      "execution_count": 33,
      "outputs": []
    },
    {
      "cell_type": "code",
      "source": [
        "data_f=create_df(data_frame=name_dataframe)\n",
        "delete_column(data_frame=data_f)"
      ],
      "metadata": {
        "colab": {
          "base_uri": "https://localhost:8080/",
          "height": 536
        },
        "id": "NM_fW22Tg_1G",
        "outputId": "aeebe4cf-6e02-4aa3-e5d9-f6b707cf0dda"
      },
      "execution_count": 34,
      "outputs": [
        {
          "output_type": "stream",
          "name": "stdout",
          "text": [
            "This is the Dataframe after deleting column Duration\n"
          ]
        },
        {
          "output_type": "execute_result",
          "data": {
            "text/plain": [
              "                NOM_ENT   DISTRITO INDIGENA  POBTOT  POBFEM  POBMAS  P_0A2  \\\n",
              "ENTIDAD                                                                      \n",
              "1         Aguascalientes         1       NO  482911  245249  237662  27689   \n",
              "1         Aguascalientes         2       NO  486085  249098  236987  24904   \n",
              "1         Aguascalientes         3       NO  456611  234577  222034  19271   \n",
              "2        Baja California         1       NO  485628  240417  245211  19179   \n",
              "2        Baja California         2       NO  396169  197545  198624  11110   \n",
              "...                  ...       ...      ...     ...     ...     ...    ...   \n",
              "31               Yucatán         5       SI  440998  221243  219755  22989   \n",
              "32             Zacatecas         1       NO  401248  204384  196864  23355   \n",
              "32             Zacatecas         2       NO  382209  195915  186294  20205   \n",
              "32             Zacatecas         3       NO  388643  198960  189683  19795   \n",
              "32             Zacatecas         4       NO  450038  231821  218217  25078   \n",
              "\n",
              "         P_0A2_F  P_0A2_M  P_0A17  ...  VPH_TELEF  VPH_CEL  VPH_INTER  \\\n",
              "ENTIDAD                            ...                                  \n",
              "1          13802    13887  174555  ...      32683   110208      59381   \n",
              "1          12319    12585  160970  ...      51688   126004      84830   \n",
              "1           9483     9788  127810  ...      63447   123683      91792   \n",
              "2           9563     9616  139707  ...      70615   141300      97720   \n",
              "2           5479     5631   92281  ...      82630   119147      97297   \n",
              "...          ...      ...     ...  ...        ...      ...        ...   \n",
              "31         11341    11648  142542  ...       9970    92325      36036   \n",
              "32         11498    11857  139298  ...      29959    89927      48632   \n",
              "32         10044    10161  124394  ...      34309    88813      44615   \n",
              "32          9818     9977  123235  ...      38288    89258      53611   \n",
              "32         12460    12618  157757  ...      35496   104816      58087   \n",
              "\n",
              "         VPH_STVP  VPH_SPMVPI  VPH_CVJ  VPH_SINRTV  VPH_SINLTC  VPH_SINCIN  \\\n",
              "ENTIDAD                                                                      \n",
              "1           45106       19305    14900        2752        8043       54801   \n",
              "1           63907       33974    25751        1651        3813       40681   \n",
              "1           65076       45445    29475        1618        3467       33514   \n",
              "2           72397       48338    29949        4220        5526       44317   \n",
              "2           65908       49026    26747        2815        4302       26120   \n",
              "...           ...         ...      ...         ...         ...         ...   \n",
              "31          64935        5919     2653       10718       22202       73204   \n",
              "32          51412       10315     8034        2495       10197       52570   \n",
              "32          48299        7931     6273        4097       11035       57931   \n",
              "32          57594       15716    10661        3540       10995       47440   \n",
              "32          57032       17694    12654        3111       11089       56240   \n",
              "\n",
              "         VPH_SINTIC  \n",
              "ENTIDAD              \n",
              "1               985  \n",
              "1               373  \n",
              "1               353  \n",
              "2              1241  \n",
              "2               894  \n",
              "...             ...  \n",
              "31             6014  \n",
              "32             1088  \n",
              "32             1678  \n",
              "32             1340  \n",
              "32             1277  \n",
              "\n",
              "[300 rows x 223 columns]"
            ],
            "text/html": [
              "\n",
              "  <div id=\"df-1baaf045-41b6-4b64-8e4d-d809b937c2ff\">\n",
              "    <div class=\"colab-df-container\">\n",
              "      <div>\n",
              "<style scoped>\n",
              "    .dataframe tbody tr th:only-of-type {\n",
              "        vertical-align: middle;\n",
              "    }\n",
              "\n",
              "    .dataframe tbody tr th {\n",
              "        vertical-align: top;\n",
              "    }\n",
              "\n",
              "    .dataframe thead th {\n",
              "        text-align: right;\n",
              "    }\n",
              "</style>\n",
              "<table border=\"1\" class=\"dataframe\">\n",
              "  <thead>\n",
              "    <tr style=\"text-align: right;\">\n",
              "      <th></th>\n",
              "      <th>NOM_ENT</th>\n",
              "      <th>DISTRITO</th>\n",
              "      <th>INDIGENA</th>\n",
              "      <th>POBTOT</th>\n",
              "      <th>POBFEM</th>\n",
              "      <th>POBMAS</th>\n",
              "      <th>P_0A2</th>\n",
              "      <th>P_0A2_F</th>\n",
              "      <th>P_0A2_M</th>\n",
              "      <th>P_0A17</th>\n",
              "      <th>...</th>\n",
              "      <th>VPH_TELEF</th>\n",
              "      <th>VPH_CEL</th>\n",
              "      <th>VPH_INTER</th>\n",
              "      <th>VPH_STVP</th>\n",
              "      <th>VPH_SPMVPI</th>\n",
              "      <th>VPH_CVJ</th>\n",
              "      <th>VPH_SINRTV</th>\n",
              "      <th>VPH_SINLTC</th>\n",
              "      <th>VPH_SINCIN</th>\n",
              "      <th>VPH_SINTIC</th>\n",
              "    </tr>\n",
              "    <tr>\n",
              "      <th>ENTIDAD</th>\n",
              "      <th></th>\n",
              "      <th></th>\n",
              "      <th></th>\n",
              "      <th></th>\n",
              "      <th></th>\n",
              "      <th></th>\n",
              "      <th></th>\n",
              "      <th></th>\n",
              "      <th></th>\n",
              "      <th></th>\n",
              "      <th></th>\n",
              "      <th></th>\n",
              "      <th></th>\n",
              "      <th></th>\n",
              "      <th></th>\n",
              "      <th></th>\n",
              "      <th></th>\n",
              "      <th></th>\n",
              "      <th></th>\n",
              "      <th></th>\n",
              "      <th></th>\n",
              "    </tr>\n",
              "  </thead>\n",
              "  <tbody>\n",
              "    <tr>\n",
              "      <th>1</th>\n",
              "      <td>Aguascalientes</td>\n",
              "      <td>1</td>\n",
              "      <td>NO</td>\n",
              "      <td>482911</td>\n",
              "      <td>245249</td>\n",
              "      <td>237662</td>\n",
              "      <td>27689</td>\n",
              "      <td>13802</td>\n",
              "      <td>13887</td>\n",
              "      <td>174555</td>\n",
              "      <td>...</td>\n",
              "      <td>32683</td>\n",
              "      <td>110208</td>\n",
              "      <td>59381</td>\n",
              "      <td>45106</td>\n",
              "      <td>19305</td>\n",
              "      <td>14900</td>\n",
              "      <td>2752</td>\n",
              "      <td>8043</td>\n",
              "      <td>54801</td>\n",
              "      <td>985</td>\n",
              "    </tr>\n",
              "    <tr>\n",
              "      <th>1</th>\n",
              "      <td>Aguascalientes</td>\n",
              "      <td>2</td>\n",
              "      <td>NO</td>\n",
              "      <td>486085</td>\n",
              "      <td>249098</td>\n",
              "      <td>236987</td>\n",
              "      <td>24904</td>\n",
              "      <td>12319</td>\n",
              "      <td>12585</td>\n",
              "      <td>160970</td>\n",
              "      <td>...</td>\n",
              "      <td>51688</td>\n",
              "      <td>126004</td>\n",
              "      <td>84830</td>\n",
              "      <td>63907</td>\n",
              "      <td>33974</td>\n",
              "      <td>25751</td>\n",
              "      <td>1651</td>\n",
              "      <td>3813</td>\n",
              "      <td>40681</td>\n",
              "      <td>373</td>\n",
              "    </tr>\n",
              "    <tr>\n",
              "      <th>1</th>\n",
              "      <td>Aguascalientes</td>\n",
              "      <td>3</td>\n",
              "      <td>NO</td>\n",
              "      <td>456611</td>\n",
              "      <td>234577</td>\n",
              "      <td>222034</td>\n",
              "      <td>19271</td>\n",
              "      <td>9483</td>\n",
              "      <td>9788</td>\n",
              "      <td>127810</td>\n",
              "      <td>...</td>\n",
              "      <td>63447</td>\n",
              "      <td>123683</td>\n",
              "      <td>91792</td>\n",
              "      <td>65076</td>\n",
              "      <td>45445</td>\n",
              "      <td>29475</td>\n",
              "      <td>1618</td>\n",
              "      <td>3467</td>\n",
              "      <td>33514</td>\n",
              "      <td>353</td>\n",
              "    </tr>\n",
              "    <tr>\n",
              "      <th>2</th>\n",
              "      <td>Baja California</td>\n",
              "      <td>1</td>\n",
              "      <td>NO</td>\n",
              "      <td>485628</td>\n",
              "      <td>240417</td>\n",
              "      <td>245211</td>\n",
              "      <td>19179</td>\n",
              "      <td>9563</td>\n",
              "      <td>9616</td>\n",
              "      <td>139707</td>\n",
              "      <td>...</td>\n",
              "      <td>70615</td>\n",
              "      <td>141300</td>\n",
              "      <td>97720</td>\n",
              "      <td>72397</td>\n",
              "      <td>48338</td>\n",
              "      <td>29949</td>\n",
              "      <td>4220</td>\n",
              "      <td>5526</td>\n",
              "      <td>44317</td>\n",
              "      <td>1241</td>\n",
              "    </tr>\n",
              "    <tr>\n",
              "      <th>2</th>\n",
              "      <td>Baja California</td>\n",
              "      <td>2</td>\n",
              "      <td>NO</td>\n",
              "      <td>396169</td>\n",
              "      <td>197545</td>\n",
              "      <td>198624</td>\n",
              "      <td>11110</td>\n",
              "      <td>5479</td>\n",
              "      <td>5631</td>\n",
              "      <td>92281</td>\n",
              "      <td>...</td>\n",
              "      <td>82630</td>\n",
              "      <td>119147</td>\n",
              "      <td>97297</td>\n",
              "      <td>65908</td>\n",
              "      <td>49026</td>\n",
              "      <td>26747</td>\n",
              "      <td>2815</td>\n",
              "      <td>4302</td>\n",
              "      <td>26120</td>\n",
              "      <td>894</td>\n",
              "    </tr>\n",
              "    <tr>\n",
              "      <th>...</th>\n",
              "      <td>...</td>\n",
              "      <td>...</td>\n",
              "      <td>...</td>\n",
              "      <td>...</td>\n",
              "      <td>...</td>\n",
              "      <td>...</td>\n",
              "      <td>...</td>\n",
              "      <td>...</td>\n",
              "      <td>...</td>\n",
              "      <td>...</td>\n",
              "      <td>...</td>\n",
              "      <td>...</td>\n",
              "      <td>...</td>\n",
              "      <td>...</td>\n",
              "      <td>...</td>\n",
              "      <td>...</td>\n",
              "      <td>...</td>\n",
              "      <td>...</td>\n",
              "      <td>...</td>\n",
              "      <td>...</td>\n",
              "      <td>...</td>\n",
              "    </tr>\n",
              "    <tr>\n",
              "      <th>31</th>\n",
              "      <td>Yucatán</td>\n",
              "      <td>5</td>\n",
              "      <td>SI</td>\n",
              "      <td>440998</td>\n",
              "      <td>221243</td>\n",
              "      <td>219755</td>\n",
              "      <td>22989</td>\n",
              "      <td>11341</td>\n",
              "      <td>11648</td>\n",
              "      <td>142542</td>\n",
              "      <td>...</td>\n",
              "      <td>9970</td>\n",
              "      <td>92325</td>\n",
              "      <td>36036</td>\n",
              "      <td>64935</td>\n",
              "      <td>5919</td>\n",
              "      <td>2653</td>\n",
              "      <td>10718</td>\n",
              "      <td>22202</td>\n",
              "      <td>73204</td>\n",
              "      <td>6014</td>\n",
              "    </tr>\n",
              "    <tr>\n",
              "      <th>32</th>\n",
              "      <td>Zacatecas</td>\n",
              "      <td>1</td>\n",
              "      <td>NO</td>\n",
              "      <td>401248</td>\n",
              "      <td>204384</td>\n",
              "      <td>196864</td>\n",
              "      <td>23355</td>\n",
              "      <td>11498</td>\n",
              "      <td>11857</td>\n",
              "      <td>139298</td>\n",
              "      <td>...</td>\n",
              "      <td>29959</td>\n",
              "      <td>89927</td>\n",
              "      <td>48632</td>\n",
              "      <td>51412</td>\n",
              "      <td>10315</td>\n",
              "      <td>8034</td>\n",
              "      <td>2495</td>\n",
              "      <td>10197</td>\n",
              "      <td>52570</td>\n",
              "      <td>1088</td>\n",
              "    </tr>\n",
              "    <tr>\n",
              "      <th>32</th>\n",
              "      <td>Zacatecas</td>\n",
              "      <td>2</td>\n",
              "      <td>NO</td>\n",
              "      <td>382209</td>\n",
              "      <td>195915</td>\n",
              "      <td>186294</td>\n",
              "      <td>20205</td>\n",
              "      <td>10044</td>\n",
              "      <td>10161</td>\n",
              "      <td>124394</td>\n",
              "      <td>...</td>\n",
              "      <td>34309</td>\n",
              "      <td>88813</td>\n",
              "      <td>44615</td>\n",
              "      <td>48299</td>\n",
              "      <td>7931</td>\n",
              "      <td>6273</td>\n",
              "      <td>4097</td>\n",
              "      <td>11035</td>\n",
              "      <td>57931</td>\n",
              "      <td>1678</td>\n",
              "    </tr>\n",
              "    <tr>\n",
              "      <th>32</th>\n",
              "      <td>Zacatecas</td>\n",
              "      <td>3</td>\n",
              "      <td>NO</td>\n",
              "      <td>388643</td>\n",
              "      <td>198960</td>\n",
              "      <td>189683</td>\n",
              "      <td>19795</td>\n",
              "      <td>9818</td>\n",
              "      <td>9977</td>\n",
              "      <td>123235</td>\n",
              "      <td>...</td>\n",
              "      <td>38288</td>\n",
              "      <td>89258</td>\n",
              "      <td>53611</td>\n",
              "      <td>57594</td>\n",
              "      <td>15716</td>\n",
              "      <td>10661</td>\n",
              "      <td>3540</td>\n",
              "      <td>10995</td>\n",
              "      <td>47440</td>\n",
              "      <td>1340</td>\n",
              "    </tr>\n",
              "    <tr>\n",
              "      <th>32</th>\n",
              "      <td>Zacatecas</td>\n",
              "      <td>4</td>\n",
              "      <td>NO</td>\n",
              "      <td>450038</td>\n",
              "      <td>231821</td>\n",
              "      <td>218217</td>\n",
              "      <td>25078</td>\n",
              "      <td>12460</td>\n",
              "      <td>12618</td>\n",
              "      <td>157757</td>\n",
              "      <td>...</td>\n",
              "      <td>35496</td>\n",
              "      <td>104816</td>\n",
              "      <td>58087</td>\n",
              "      <td>57032</td>\n",
              "      <td>17694</td>\n",
              "      <td>12654</td>\n",
              "      <td>3111</td>\n",
              "      <td>11089</td>\n",
              "      <td>56240</td>\n",
              "      <td>1277</td>\n",
              "    </tr>\n",
              "  </tbody>\n",
              "</table>\n",
              "<p>300 rows × 223 columns</p>\n",
              "</div>\n",
              "      <button class=\"colab-df-convert\" onclick=\"convertToInteractive('df-1baaf045-41b6-4b64-8e4d-d809b937c2ff')\"\n",
              "              title=\"Convert this dataframe to an interactive table.\"\n",
              "              style=\"display:none;\">\n",
              "        \n",
              "  <svg xmlns=\"http://www.w3.org/2000/svg\" height=\"24px\"viewBox=\"0 0 24 24\"\n",
              "       width=\"24px\">\n",
              "    <path d=\"M0 0h24v24H0V0z\" fill=\"none\"/>\n",
              "    <path d=\"M18.56 5.44l.94 2.06.94-2.06 2.06-.94-2.06-.94-.94-2.06-.94 2.06-2.06.94zm-11 1L8.5 8.5l.94-2.06 2.06-.94-2.06-.94L8.5 2.5l-.94 2.06-2.06.94zm10 10l.94 2.06.94-2.06 2.06-.94-2.06-.94-.94-2.06-.94 2.06-2.06.94z\"/><path d=\"M17.41 7.96l-1.37-1.37c-.4-.4-.92-.59-1.43-.59-.52 0-1.04.2-1.43.59L10.3 9.45l-7.72 7.72c-.78.78-.78 2.05 0 2.83L4 21.41c.39.39.9.59 1.41.59.51 0 1.02-.2 1.41-.59l7.78-7.78 2.81-2.81c.8-.78.8-2.07 0-2.86zM5.41 20L4 18.59l7.72-7.72 1.47 1.35L5.41 20z\"/>\n",
              "  </svg>\n",
              "      </button>\n",
              "      \n",
              "  <style>\n",
              "    .colab-df-container {\n",
              "      display:flex;\n",
              "      flex-wrap:wrap;\n",
              "      gap: 12px;\n",
              "    }\n",
              "\n",
              "    .colab-df-convert {\n",
              "      background-color: #E8F0FE;\n",
              "      border: none;\n",
              "      border-radius: 50%;\n",
              "      cursor: pointer;\n",
              "      display: none;\n",
              "      fill: #1967D2;\n",
              "      height: 32px;\n",
              "      padding: 0 0 0 0;\n",
              "      width: 32px;\n",
              "    }\n",
              "\n",
              "    .colab-df-convert:hover {\n",
              "      background-color: #E2EBFA;\n",
              "      box-shadow: 0px 1px 2px rgba(60, 64, 67, 0.3), 0px 1px 3px 1px rgba(60, 64, 67, 0.15);\n",
              "      fill: #174EA6;\n",
              "    }\n",
              "\n",
              "    [theme=dark] .colab-df-convert {\n",
              "      background-color: #3B4455;\n",
              "      fill: #D2E3FC;\n",
              "    }\n",
              "\n",
              "    [theme=dark] .colab-df-convert:hover {\n",
              "      background-color: #434B5C;\n",
              "      box-shadow: 0px 1px 3px 1px rgba(0, 0, 0, 0.15);\n",
              "      filter: drop-shadow(0px 1px 2px rgba(0, 0, 0, 0.3));\n",
              "      fill: #FFFFFF;\n",
              "    }\n",
              "  </style>\n",
              "\n",
              "      <script>\n",
              "        const buttonEl =\n",
              "          document.querySelector('#df-1baaf045-41b6-4b64-8e4d-d809b937c2ff button.colab-df-convert');\n",
              "        buttonEl.style.display =\n",
              "          google.colab.kernel.accessAllowed ? 'block' : 'none';\n",
              "\n",
              "        async function convertToInteractive(key) {\n",
              "          const element = document.querySelector('#df-1baaf045-41b6-4b64-8e4d-d809b937c2ff');\n",
              "          const dataTable =\n",
              "            await google.colab.kernel.invokeFunction('convertToInteractive',\n",
              "                                                     [key], {});\n",
              "          if (!dataTable) return;\n",
              "\n",
              "          const docLinkHtml = 'Like what you see? Visit the ' +\n",
              "            '<a target=\"_blank\" href=https://colab.research.google.com/notebooks/data_table.ipynb>data table notebook</a>'\n",
              "            + ' to learn more about interactive tables.';\n",
              "          element.innerHTML = '';\n",
              "          dataTable['output_type'] = 'display_data';\n",
              "          await google.colab.output.renderOutput(dataTable, element);\n",
              "          const docLink = document.createElement('div');\n",
              "          docLink.innerHTML = docLinkHtml;\n",
              "          element.appendChild(docLink);\n",
              "        }\n",
              "      </script>\n",
              "    </div>\n",
              "  </div>\n",
              "  "
            ]
          },
          "metadata": {},
          "execution_count": 34
        }
      ]
    },
    {
      "cell_type": "markdown",
      "source": [
        "### Add New Columns"
      ],
      "metadata": {
        "id": "u80KwVW8ClkD"
      }
    },
    {
      "cell_type": "code",
      "source": [
        "#print(\"This is the Dataframe before add a column\")\n",
        "#file_name\n",
        "\n",
        "def add_column(data_frame: any):\n",
        "    a=np.random.randint(low=50, high= 101, size=len(data_frame))\n",
        "    data_frame['Numeros_A']=a\n",
        "    return data_frame"
      ],
      "metadata": {
        "id": "ws1GpRdeCpb6"
      },
      "execution_count": 35,
      "outputs": []
    },
    {
      "cell_type": "code",
      "source": [
        "data_f=create_df(data_frame=name_dataframe)\n",
        "add_column(data_frame=data_f)"
      ],
      "metadata": {
        "colab": {
          "base_uri": "https://localhost:8080/",
          "height": 606
        },
        "id": "SrYwNiqYiF2V",
        "outputId": "d45cbac8-25f5-4dc5-c0b5-3a8c66890c31"
      },
      "execution_count": 36,
      "outputs": [
        {
          "output_type": "execute_result",
          "data": {
            "text/plain": [
              "                NOM_ENT   DISTRITO INDIGENA      COMPLEJIDA  POBTOT  POBFEM  \\\n",
              "ENTIDAD                                                                       \n",
              "1         Aguascalientes         1       NO      Disperso 1  482911  245249   \n",
              "1         Aguascalientes         2       NO   Concentrado 1  486085  249098   \n",
              "1         Aguascalientes         3       NO   Concentrado 2  456611  234577   \n",
              "2        Baja California         1       NO   Concentrado 2  485628  240417   \n",
              "2        Baja California         2       NO   Concentrado 1  396169  197545   \n",
              "...                  ...       ...      ...             ...     ...     ...   \n",
              "31               Yucatán         5       SI      Disperso 1  440998  221243   \n",
              "32             Zacatecas         1       NO      Disperso 1  401248  204384   \n",
              "32             Zacatecas         2       NO  Muy Disperso 1  382209  195915   \n",
              "32             Zacatecas         3       NO      Disperso 2  388643  198960   \n",
              "32             Zacatecas         4       NO      Disperso 1  450038  231821   \n",
              "\n",
              "         POBMAS  P_0A2  P_0A2_F  P_0A2_M  ...  VPH_CEL  VPH_INTER  VPH_STVP  \\\n",
              "ENTIDAD                                   ...                                 \n",
              "1        237662  27689    13802    13887  ...   110208      59381     45106   \n",
              "1        236987  24904    12319    12585  ...   126004      84830     63907   \n",
              "1        222034  19271     9483     9788  ...   123683      91792     65076   \n",
              "2        245211  19179     9563     9616  ...   141300      97720     72397   \n",
              "2        198624  11110     5479     5631  ...   119147      97297     65908   \n",
              "...         ...    ...      ...      ...  ...      ...        ...       ...   \n",
              "31       219755  22989    11341    11648  ...    92325      36036     64935   \n",
              "32       196864  23355    11498    11857  ...    89927      48632     51412   \n",
              "32       186294  20205    10044    10161  ...    88813      44615     48299   \n",
              "32       189683  19795     9818     9977  ...    89258      53611     57594   \n",
              "32       218217  25078    12460    12618  ...   104816      58087     57032   \n",
              "\n",
              "         VPH_SPMVPI  VPH_CVJ  VPH_SINRTV  VPH_SINLTC  VPH_SINCIN  VPH_SINTIC  \\\n",
              "ENTIDAD                                                                        \n",
              "1             19305    14900        2752        8043       54801         985   \n",
              "1             33974    25751        1651        3813       40681         373   \n",
              "1             45445    29475        1618        3467       33514         353   \n",
              "2             48338    29949        4220        5526       44317        1241   \n",
              "2             49026    26747        2815        4302       26120         894   \n",
              "...             ...      ...         ...         ...         ...         ...   \n",
              "31             5919     2653       10718       22202       73204        6014   \n",
              "32            10315     8034        2495       10197       52570        1088   \n",
              "32             7931     6273        4097       11035       57931        1678   \n",
              "32            15716    10661        3540       10995       47440        1340   \n",
              "32            17694    12654        3111       11089       56240        1277   \n",
              "\n",
              "         Numeros_A  \n",
              "ENTIDAD             \n",
              "1               74  \n",
              "1               64  \n",
              "1               84  \n",
              "2               83  \n",
              "2               85  \n",
              "...            ...  \n",
              "31              52  \n",
              "32              57  \n",
              "32              58  \n",
              "32              84  \n",
              "32              80  \n",
              "\n",
              "[300 rows x 225 columns]"
            ],
            "text/html": [
              "\n",
              "  <div id=\"df-372b1322-bfb1-4011-bbc4-d2cc819915f5\">\n",
              "    <div class=\"colab-df-container\">\n",
              "      <div>\n",
              "<style scoped>\n",
              "    .dataframe tbody tr th:only-of-type {\n",
              "        vertical-align: middle;\n",
              "    }\n",
              "\n",
              "    .dataframe tbody tr th {\n",
              "        vertical-align: top;\n",
              "    }\n",
              "\n",
              "    .dataframe thead th {\n",
              "        text-align: right;\n",
              "    }\n",
              "</style>\n",
              "<table border=\"1\" class=\"dataframe\">\n",
              "  <thead>\n",
              "    <tr style=\"text-align: right;\">\n",
              "      <th></th>\n",
              "      <th>NOM_ENT</th>\n",
              "      <th>DISTRITO</th>\n",
              "      <th>INDIGENA</th>\n",
              "      <th>COMPLEJIDA</th>\n",
              "      <th>POBTOT</th>\n",
              "      <th>POBFEM</th>\n",
              "      <th>POBMAS</th>\n",
              "      <th>P_0A2</th>\n",
              "      <th>P_0A2_F</th>\n",
              "      <th>P_0A2_M</th>\n",
              "      <th>...</th>\n",
              "      <th>VPH_CEL</th>\n",
              "      <th>VPH_INTER</th>\n",
              "      <th>VPH_STVP</th>\n",
              "      <th>VPH_SPMVPI</th>\n",
              "      <th>VPH_CVJ</th>\n",
              "      <th>VPH_SINRTV</th>\n",
              "      <th>VPH_SINLTC</th>\n",
              "      <th>VPH_SINCIN</th>\n",
              "      <th>VPH_SINTIC</th>\n",
              "      <th>Numeros_A</th>\n",
              "    </tr>\n",
              "    <tr>\n",
              "      <th>ENTIDAD</th>\n",
              "      <th></th>\n",
              "      <th></th>\n",
              "      <th></th>\n",
              "      <th></th>\n",
              "      <th></th>\n",
              "      <th></th>\n",
              "      <th></th>\n",
              "      <th></th>\n",
              "      <th></th>\n",
              "      <th></th>\n",
              "      <th></th>\n",
              "      <th></th>\n",
              "      <th></th>\n",
              "      <th></th>\n",
              "      <th></th>\n",
              "      <th></th>\n",
              "      <th></th>\n",
              "      <th></th>\n",
              "      <th></th>\n",
              "      <th></th>\n",
              "      <th></th>\n",
              "    </tr>\n",
              "  </thead>\n",
              "  <tbody>\n",
              "    <tr>\n",
              "      <th>1</th>\n",
              "      <td>Aguascalientes</td>\n",
              "      <td>1</td>\n",
              "      <td>NO</td>\n",
              "      <td>Disperso 1</td>\n",
              "      <td>482911</td>\n",
              "      <td>245249</td>\n",
              "      <td>237662</td>\n",
              "      <td>27689</td>\n",
              "      <td>13802</td>\n",
              "      <td>13887</td>\n",
              "      <td>...</td>\n",
              "      <td>110208</td>\n",
              "      <td>59381</td>\n",
              "      <td>45106</td>\n",
              "      <td>19305</td>\n",
              "      <td>14900</td>\n",
              "      <td>2752</td>\n",
              "      <td>8043</td>\n",
              "      <td>54801</td>\n",
              "      <td>985</td>\n",
              "      <td>74</td>\n",
              "    </tr>\n",
              "    <tr>\n",
              "      <th>1</th>\n",
              "      <td>Aguascalientes</td>\n",
              "      <td>2</td>\n",
              "      <td>NO</td>\n",
              "      <td>Concentrado 1</td>\n",
              "      <td>486085</td>\n",
              "      <td>249098</td>\n",
              "      <td>236987</td>\n",
              "      <td>24904</td>\n",
              "      <td>12319</td>\n",
              "      <td>12585</td>\n",
              "      <td>...</td>\n",
              "      <td>126004</td>\n",
              "      <td>84830</td>\n",
              "      <td>63907</td>\n",
              "      <td>33974</td>\n",
              "      <td>25751</td>\n",
              "      <td>1651</td>\n",
              "      <td>3813</td>\n",
              "      <td>40681</td>\n",
              "      <td>373</td>\n",
              "      <td>64</td>\n",
              "    </tr>\n",
              "    <tr>\n",
              "      <th>1</th>\n",
              "      <td>Aguascalientes</td>\n",
              "      <td>3</td>\n",
              "      <td>NO</td>\n",
              "      <td>Concentrado 2</td>\n",
              "      <td>456611</td>\n",
              "      <td>234577</td>\n",
              "      <td>222034</td>\n",
              "      <td>19271</td>\n",
              "      <td>9483</td>\n",
              "      <td>9788</td>\n",
              "      <td>...</td>\n",
              "      <td>123683</td>\n",
              "      <td>91792</td>\n",
              "      <td>65076</td>\n",
              "      <td>45445</td>\n",
              "      <td>29475</td>\n",
              "      <td>1618</td>\n",
              "      <td>3467</td>\n",
              "      <td>33514</td>\n",
              "      <td>353</td>\n",
              "      <td>84</td>\n",
              "    </tr>\n",
              "    <tr>\n",
              "      <th>2</th>\n",
              "      <td>Baja California</td>\n",
              "      <td>1</td>\n",
              "      <td>NO</td>\n",
              "      <td>Concentrado 2</td>\n",
              "      <td>485628</td>\n",
              "      <td>240417</td>\n",
              "      <td>245211</td>\n",
              "      <td>19179</td>\n",
              "      <td>9563</td>\n",
              "      <td>9616</td>\n",
              "      <td>...</td>\n",
              "      <td>141300</td>\n",
              "      <td>97720</td>\n",
              "      <td>72397</td>\n",
              "      <td>48338</td>\n",
              "      <td>29949</td>\n",
              "      <td>4220</td>\n",
              "      <td>5526</td>\n",
              "      <td>44317</td>\n",
              "      <td>1241</td>\n",
              "      <td>83</td>\n",
              "    </tr>\n",
              "    <tr>\n",
              "      <th>2</th>\n",
              "      <td>Baja California</td>\n",
              "      <td>2</td>\n",
              "      <td>NO</td>\n",
              "      <td>Concentrado 1</td>\n",
              "      <td>396169</td>\n",
              "      <td>197545</td>\n",
              "      <td>198624</td>\n",
              "      <td>11110</td>\n",
              "      <td>5479</td>\n",
              "      <td>5631</td>\n",
              "      <td>...</td>\n",
              "      <td>119147</td>\n",
              "      <td>97297</td>\n",
              "      <td>65908</td>\n",
              "      <td>49026</td>\n",
              "      <td>26747</td>\n",
              "      <td>2815</td>\n",
              "      <td>4302</td>\n",
              "      <td>26120</td>\n",
              "      <td>894</td>\n",
              "      <td>85</td>\n",
              "    </tr>\n",
              "    <tr>\n",
              "      <th>...</th>\n",
              "      <td>...</td>\n",
              "      <td>...</td>\n",
              "      <td>...</td>\n",
              "      <td>...</td>\n",
              "      <td>...</td>\n",
              "      <td>...</td>\n",
              "      <td>...</td>\n",
              "      <td>...</td>\n",
              "      <td>...</td>\n",
              "      <td>...</td>\n",
              "      <td>...</td>\n",
              "      <td>...</td>\n",
              "      <td>...</td>\n",
              "      <td>...</td>\n",
              "      <td>...</td>\n",
              "      <td>...</td>\n",
              "      <td>...</td>\n",
              "      <td>...</td>\n",
              "      <td>...</td>\n",
              "      <td>...</td>\n",
              "      <td>...</td>\n",
              "    </tr>\n",
              "    <tr>\n",
              "      <th>31</th>\n",
              "      <td>Yucatán</td>\n",
              "      <td>5</td>\n",
              "      <td>SI</td>\n",
              "      <td>Disperso 1</td>\n",
              "      <td>440998</td>\n",
              "      <td>221243</td>\n",
              "      <td>219755</td>\n",
              "      <td>22989</td>\n",
              "      <td>11341</td>\n",
              "      <td>11648</td>\n",
              "      <td>...</td>\n",
              "      <td>92325</td>\n",
              "      <td>36036</td>\n",
              "      <td>64935</td>\n",
              "      <td>5919</td>\n",
              "      <td>2653</td>\n",
              "      <td>10718</td>\n",
              "      <td>22202</td>\n",
              "      <td>73204</td>\n",
              "      <td>6014</td>\n",
              "      <td>52</td>\n",
              "    </tr>\n",
              "    <tr>\n",
              "      <th>32</th>\n",
              "      <td>Zacatecas</td>\n",
              "      <td>1</td>\n",
              "      <td>NO</td>\n",
              "      <td>Disperso 1</td>\n",
              "      <td>401248</td>\n",
              "      <td>204384</td>\n",
              "      <td>196864</td>\n",
              "      <td>23355</td>\n",
              "      <td>11498</td>\n",
              "      <td>11857</td>\n",
              "      <td>...</td>\n",
              "      <td>89927</td>\n",
              "      <td>48632</td>\n",
              "      <td>51412</td>\n",
              "      <td>10315</td>\n",
              "      <td>8034</td>\n",
              "      <td>2495</td>\n",
              "      <td>10197</td>\n",
              "      <td>52570</td>\n",
              "      <td>1088</td>\n",
              "      <td>57</td>\n",
              "    </tr>\n",
              "    <tr>\n",
              "      <th>32</th>\n",
              "      <td>Zacatecas</td>\n",
              "      <td>2</td>\n",
              "      <td>NO</td>\n",
              "      <td>Muy Disperso 1</td>\n",
              "      <td>382209</td>\n",
              "      <td>195915</td>\n",
              "      <td>186294</td>\n",
              "      <td>20205</td>\n",
              "      <td>10044</td>\n",
              "      <td>10161</td>\n",
              "      <td>...</td>\n",
              "      <td>88813</td>\n",
              "      <td>44615</td>\n",
              "      <td>48299</td>\n",
              "      <td>7931</td>\n",
              "      <td>6273</td>\n",
              "      <td>4097</td>\n",
              "      <td>11035</td>\n",
              "      <td>57931</td>\n",
              "      <td>1678</td>\n",
              "      <td>58</td>\n",
              "    </tr>\n",
              "    <tr>\n",
              "      <th>32</th>\n",
              "      <td>Zacatecas</td>\n",
              "      <td>3</td>\n",
              "      <td>NO</td>\n",
              "      <td>Disperso 2</td>\n",
              "      <td>388643</td>\n",
              "      <td>198960</td>\n",
              "      <td>189683</td>\n",
              "      <td>19795</td>\n",
              "      <td>9818</td>\n",
              "      <td>9977</td>\n",
              "      <td>...</td>\n",
              "      <td>89258</td>\n",
              "      <td>53611</td>\n",
              "      <td>57594</td>\n",
              "      <td>15716</td>\n",
              "      <td>10661</td>\n",
              "      <td>3540</td>\n",
              "      <td>10995</td>\n",
              "      <td>47440</td>\n",
              "      <td>1340</td>\n",
              "      <td>84</td>\n",
              "    </tr>\n",
              "    <tr>\n",
              "      <th>32</th>\n",
              "      <td>Zacatecas</td>\n",
              "      <td>4</td>\n",
              "      <td>NO</td>\n",
              "      <td>Disperso 1</td>\n",
              "      <td>450038</td>\n",
              "      <td>231821</td>\n",
              "      <td>218217</td>\n",
              "      <td>25078</td>\n",
              "      <td>12460</td>\n",
              "      <td>12618</td>\n",
              "      <td>...</td>\n",
              "      <td>104816</td>\n",
              "      <td>58087</td>\n",
              "      <td>57032</td>\n",
              "      <td>17694</td>\n",
              "      <td>12654</td>\n",
              "      <td>3111</td>\n",
              "      <td>11089</td>\n",
              "      <td>56240</td>\n",
              "      <td>1277</td>\n",
              "      <td>80</td>\n",
              "    </tr>\n",
              "  </tbody>\n",
              "</table>\n",
              "<p>300 rows × 225 columns</p>\n",
              "</div>\n",
              "      <button class=\"colab-df-convert\" onclick=\"convertToInteractive('df-372b1322-bfb1-4011-bbc4-d2cc819915f5')\"\n",
              "              title=\"Convert this dataframe to an interactive table.\"\n",
              "              style=\"display:none;\">\n",
              "        \n",
              "  <svg xmlns=\"http://www.w3.org/2000/svg\" height=\"24px\"viewBox=\"0 0 24 24\"\n",
              "       width=\"24px\">\n",
              "    <path d=\"M0 0h24v24H0V0z\" fill=\"none\"/>\n",
              "    <path d=\"M18.56 5.44l.94 2.06.94-2.06 2.06-.94-2.06-.94-.94-2.06-.94 2.06-2.06.94zm-11 1L8.5 8.5l.94-2.06 2.06-.94-2.06-.94L8.5 2.5l-.94 2.06-2.06.94zm10 10l.94 2.06.94-2.06 2.06-.94-2.06-.94-.94-2.06-.94 2.06-2.06.94z\"/><path d=\"M17.41 7.96l-1.37-1.37c-.4-.4-.92-.59-1.43-.59-.52 0-1.04.2-1.43.59L10.3 9.45l-7.72 7.72c-.78.78-.78 2.05 0 2.83L4 21.41c.39.39.9.59 1.41.59.51 0 1.02-.2 1.41-.59l7.78-7.78 2.81-2.81c.8-.78.8-2.07 0-2.86zM5.41 20L4 18.59l7.72-7.72 1.47 1.35L5.41 20z\"/>\n",
              "  </svg>\n",
              "      </button>\n",
              "      \n",
              "  <style>\n",
              "    .colab-df-container {\n",
              "      display:flex;\n",
              "      flex-wrap:wrap;\n",
              "      gap: 12px;\n",
              "    }\n",
              "\n",
              "    .colab-df-convert {\n",
              "      background-color: #E8F0FE;\n",
              "      border: none;\n",
              "      border-radius: 50%;\n",
              "      cursor: pointer;\n",
              "      display: none;\n",
              "      fill: #1967D2;\n",
              "      height: 32px;\n",
              "      padding: 0 0 0 0;\n",
              "      width: 32px;\n",
              "    }\n",
              "\n",
              "    .colab-df-convert:hover {\n",
              "      background-color: #E2EBFA;\n",
              "      box-shadow: 0px 1px 2px rgba(60, 64, 67, 0.3), 0px 1px 3px 1px rgba(60, 64, 67, 0.15);\n",
              "      fill: #174EA6;\n",
              "    }\n",
              "\n",
              "    [theme=dark] .colab-df-convert {\n",
              "      background-color: #3B4455;\n",
              "      fill: #D2E3FC;\n",
              "    }\n",
              "\n",
              "    [theme=dark] .colab-df-convert:hover {\n",
              "      background-color: #434B5C;\n",
              "      box-shadow: 0px 1px 3px 1px rgba(0, 0, 0, 0.15);\n",
              "      filter: drop-shadow(0px 1px 2px rgba(0, 0, 0, 0.3));\n",
              "      fill: #FFFFFF;\n",
              "    }\n",
              "  </style>\n",
              "\n",
              "      <script>\n",
              "        const buttonEl =\n",
              "          document.querySelector('#df-372b1322-bfb1-4011-bbc4-d2cc819915f5 button.colab-df-convert');\n",
              "        buttonEl.style.display =\n",
              "          google.colab.kernel.accessAllowed ? 'block' : 'none';\n",
              "\n",
              "        async function convertToInteractive(key) {\n",
              "          const element = document.querySelector('#df-372b1322-bfb1-4011-bbc4-d2cc819915f5');\n",
              "          const dataTable =\n",
              "            await google.colab.kernel.invokeFunction('convertToInteractive',\n",
              "                                                     [key], {});\n",
              "          if (!dataTable) return;\n",
              "\n",
              "          const docLinkHtml = 'Like what you see? Visit the ' +\n",
              "            '<a target=\"_blank\" href=https://colab.research.google.com/notebooks/data_table.ipynb>data table notebook</a>'\n",
              "            + ' to learn more about interactive tables.';\n",
              "          element.innerHTML = '';\n",
              "          dataTable['output_type'] = 'display_data';\n",
              "          await google.colab.output.renderOutput(dataTable, element);\n",
              "          const docLink = document.createElement('div');\n",
              "          docLink.innerHTML = docLinkHtml;\n",
              "          element.appendChild(docLink);\n",
              "        }\n",
              "      </script>\n",
              "    </div>\n",
              "  </div>\n",
              "  "
            ]
          },
          "metadata": {},
          "execution_count": 36
        }
      ]
    },
    {
      "cell_type": "markdown",
      "source": [
        "## Generate a new CSV with Pandas"
      ],
      "metadata": {
        "id": "cal1GYhmCr0T"
      }
    },
    {
      "cell_type": "code",
      "source": [
        ""
      ],
      "metadata": {
        "id": "1sa30C31Cy6S"
      },
      "execution_count": null,
      "outputs": []
    },
    {
      "cell_type": "markdown",
      "source": [
        "# Loading"
      ],
      "metadata": {
        "id": "VsjxqbZjC1sL"
      }
    },
    {
      "cell_type": "markdown",
      "source": [
        "## Upload Data to Bigquery"
      ],
      "metadata": {
        "id": "apokioo7C8XN"
      }
    },
    {
      "cell_type": "code",
      "source": [
        ""
      ],
      "metadata": {
        "id": "mzPJOmRcC4aq"
      },
      "execution_count": null,
      "outputs": []
    }
  ]
}